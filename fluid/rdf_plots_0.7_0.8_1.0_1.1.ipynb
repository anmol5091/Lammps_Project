{
 "cells": [
  {
   "cell_type": "code",
   "execution_count": 25,
   "metadata": {},
   "outputs": [],
   "source": [
    "import numpy as np\n",
    "import matplotlib.pyplot as plt\n",
    "import scipy as sp"
   ]
  },
  {
   "cell_type": "code",
   "execution_count": 26,
   "metadata": {},
   "outputs": [],
   "source": [
    "with open('nvt0.7.rdf','r') as f:\n",
    "    system_data=f.readlines()"
   ]
  },
  {
   "cell_type": "code",
   "execution_count": 29,
   "metadata": {},
   "outputs": [],
   "source": [
    "x1=[]\n",
    "y1=[]\n",
    "def get_system_coordinates(system_data,start,end):\n",
    "    for i in system_data[start:end]:\n",
    "        m=i.split()\n",
    "        x1.append(float(m[1]))\n",
    "        y1.append(float(m[2]))\n",
    "get_system_coordinates(system_data,4,104)                "
   ]
  },
  {
   "cell_type": "code",
   "execution_count": 30,
   "metadata": {},
   "outputs": [],
   "source": [
    "with open('nvt1_0.8.rdf','r') as f:\n",
    "    system_data=f.readlines()"
   ]
  },
  {
   "cell_type": "code",
   "execution_count": 31,
   "metadata": {},
   "outputs": [],
   "source": [
    "x2=[]\n",
    "y2=[]\n",
    "def get_system_coordinates(system_data,start,end):\n",
    "    for i in system_data[start:end]:\n",
    "        m=i.split()\n",
    "        x2.append(float(m[1]))\n",
    "        y2.append(float(m[2]))\n",
    "get_system_coordinates(system_data,4,104)"
   ]
  },
  {
   "cell_type": "code",
   "execution_count": 32,
   "metadata": {},
   "outputs": [],
   "source": [
    "with open('nvt_1.0.rdf','r') as f:\n",
    "    system_data=f.readlines()"
   ]
  },
  {
   "cell_type": "code",
   "execution_count": 33,
   "metadata": {},
   "outputs": [],
   "source": [
    "x3=[]\n",
    "y3=[]\n",
    "def get_system_coordinates(system_data,start,end):\n",
    "    for i in system_data[start:end]:\n",
    "        m=i.split()\n",
    "        x3.append(float(m[1]))\n",
    "        y3.append(float(m[2]))\n",
    "get_system_coordinates(system_data,4,104)"
   ]
  },
  {
   "cell_type": "code",
   "execution_count": 34,
   "metadata": {},
   "outputs": [],
   "source": [
    "with open('nvt_1.1.rdf','r') as f:\n",
    "    system_data=f.readlines()"
   ]
  },
  {
   "cell_type": "code",
   "execution_count": 35,
   "metadata": {},
   "outputs": [],
   "source": [
    "x4=[]\n",
    "y4=[]\n",
    "def get_system_coordinates(system_data,start,end):\n",
    "    for i in system_data[start:end]:\n",
    "        m=i.split()\n",
    "        x4.append(float(m[1]))\n",
    "        y4.append(float(m[2]))\n",
    "get_system_coordinates(system_data,4,104)"
   ]
  },
  {
   "cell_type": "code",
   "execution_count": 36,
   "metadata": {},
   "outputs": [
    {
     "data": {
      "image/png": "[encoded data removed]",
      "text/plain": [
       "<Figure size 432x288 with 1 Axes>"
      ]
     },
     "metadata": {
      "needs_background": "light"
     },
     "output_type": "display_data"
    }
   ],
   "source": [
    "plt.plot(x1, y1, 'r')    #epsilon=0.7\n",
    "plt.plot(x2, y2, 'b')    #epsilon=0.8\n",
    "plt.plot(x3, y3, 'g')    #epsilon=1.0\n",
    "plt.plot(x4, y4, 'y')    #epsilon=1.1\n",
    "plt.show()"
   ]
  }
 ],
 "metadata": {
  "kernelspec": {
   "display_name": "Python 3",
   "language": "python",
   "name": "python3"
  },
  "language_info": {
   "codemirror_mode": {
    "name": "ipython",
    "version": 3
   },
   "file_extension": ".py",
   "mimetype": "text/x-python",
   "name": "python",
   "nbconvert_exporter": "python",
   "pygments_lexer": "ipython3",
   "version": "3.7.1"
  }
 },
 "nbformat": 4,
 "nbformat_minor": 2
}
